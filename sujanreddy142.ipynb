{
  "nbformat": 4,
  "nbformat_minor": 0,
  "metadata": {
    "colab": {
      "provenance": [],
      "authorship_tag": "ABX9TyMdXBVttFGtdtBtXWa0LMgy",
      "include_colab_link": true
    },
    "kernelspec": {
      "name": "python3",
      "display_name": "Python 3"
    },
    "language_info": {
      "name": "python"
    }
  },
  "cells": [
    {
      "cell_type": "markdown",
      "metadata": {
        "id": "view-in-github",
        "colab_type": "text"
      },
      "source": [
        "<a href=\"https://colab.research.google.com/github/Salaar-del/lab-exam/blob/main/sujanreddy142.ipynb\" target=\"_parent\"><img src=\"https://colab.research.google.com/assets/colab-badge.svg\" alt=\"Open In Colab\"/></a>"
      ]
    },
    {
      "cell_type": "code",
      "execution_count": 1,
      "metadata": {
        "id": "CaZfZZIT0dl9"
      },
      "outputs": [],
      "source": [
        "import pandas as pd"
      ]
    },
    {
      "cell_type": "code",
      "source": [
        "from google.colab import drive\n",
        "drive.mount=('/content/Copy of Even2.xlsx')"
      ],
      "metadata": {
        "id": "Yr9FoDvc0nBM"
      },
      "execution_count": 2,
      "outputs": []
    },
    {
      "cell_type": "code",
      "source": [
        "df=pd.read_excel('/content/Copy of Even2.xlsx')"
      ],
      "metadata": {
        "id": "9sr3EUA30rd4"
      },
      "execution_count": 3,
      "outputs": []
    },
    {
      "cell_type": "code",
      "source": [
        "df.head()"
      ],
      "metadata": {
        "colab": {
          "base_uri": "https://localhost:8080/",
          "height": 206
        },
        "id": "BFbx0f720uLy",
        "outputId": "c0d8a6e1-6a76-483f-d963-fc358a24ff84"
      },
      "execution_count": 4,
      "outputs": [
        {
          "output_type": "execute_result",
          "data": {
            "text/plain": [
              "    Employee_Name  Employee_ID   Job_Role  Phone_Number  \\\n",
              "0     Jane Miller         8797  Developer  3.801881e+09   \n",
              "1   Michael Brown         6540    Manager  7.904752e+09   \n",
              "2  Sarah Anderson         2353  Developer  9.463822e+09   \n",
              "3   Chris Johnson         6392   Engineer  8.727628e+09   \n",
              "4     Laura Smith         1653    Analyst  7.750284e+08   \n",
              "\n",
              "                   Email_ID  Total_Work_Hour_per_Month  Salary_per_Month  \n",
              "0  emily.taylor@example.com                     9999.0               NaN  \n",
              "1       john.brown@test.net                      160.0           11200.0  \n",
              "2   sarah.wilson@sample.org                     9999.0           -5000.0  \n",
              "3     john.jones@sample.org                      160.0            8000.0  \n",
              "4     sarah.taylor@test.net                     9999.0               NaN  "
            ],
            "text/html": [
              "\n",
              "  <div id=\"df-0aeade56-ec2f-47ca-996a-94ef60c4307d\" class=\"colab-df-container\">\n",
              "    <div>\n",
              "<style scoped>\n",
              "    .dataframe tbody tr th:only-of-type {\n",
              "        vertical-align: middle;\n",
              "    }\n",
              "\n",
              "    .dataframe tbody tr th {\n",
              "        vertical-align: top;\n",
              "    }\n",
              "\n",
              "    .dataframe thead th {\n",
              "        text-align: right;\n",
              "    }\n",
              "</style>\n",
              "<table border=\"1\" class=\"dataframe\">\n",
              "  <thead>\n",
              "    <tr style=\"text-align: right;\">\n",
              "      <th></th>\n",
              "      <th>Employee_Name</th>\n",
              "      <th>Employee_ID</th>\n",
              "      <th>Job_Role</th>\n",
              "      <th>Phone_Number</th>\n",
              "      <th>Email_ID</th>\n",
              "      <th>Total_Work_Hour_per_Month</th>\n",
              "      <th>Salary_per_Month</th>\n",
              "    </tr>\n",
              "  </thead>\n",
              "  <tbody>\n",
              "    <tr>\n",
              "      <th>0</th>\n",
              "      <td>Jane Miller</td>\n",
              "      <td>8797</td>\n",
              "      <td>Developer</td>\n",
              "      <td>3.801881e+09</td>\n",
              "      <td>emily.taylor@example.com</td>\n",
              "      <td>9999.0</td>\n",
              "      <td>NaN</td>\n",
              "    </tr>\n",
              "    <tr>\n",
              "      <th>1</th>\n",
              "      <td>Michael Brown</td>\n",
              "      <td>6540</td>\n",
              "      <td>Manager</td>\n",
              "      <td>7.904752e+09</td>\n",
              "      <td>john.brown@test.net</td>\n",
              "      <td>160.0</td>\n",
              "      <td>11200.0</td>\n",
              "    </tr>\n",
              "    <tr>\n",
              "      <th>2</th>\n",
              "      <td>Sarah Anderson</td>\n",
              "      <td>2353</td>\n",
              "      <td>Developer</td>\n",
              "      <td>9.463822e+09</td>\n",
              "      <td>sarah.wilson@sample.org</td>\n",
              "      <td>9999.0</td>\n",
              "      <td>-5000.0</td>\n",
              "    </tr>\n",
              "    <tr>\n",
              "      <th>3</th>\n",
              "      <td>Chris Johnson</td>\n",
              "      <td>6392</td>\n",
              "      <td>Engineer</td>\n",
              "      <td>8.727628e+09</td>\n",
              "      <td>john.jones@sample.org</td>\n",
              "      <td>160.0</td>\n",
              "      <td>8000.0</td>\n",
              "    </tr>\n",
              "    <tr>\n",
              "      <th>4</th>\n",
              "      <td>Laura Smith</td>\n",
              "      <td>1653</td>\n",
              "      <td>Analyst</td>\n",
              "      <td>7.750284e+08</td>\n",
              "      <td>sarah.taylor@test.net</td>\n",
              "      <td>9999.0</td>\n",
              "      <td>NaN</td>\n",
              "    </tr>\n",
              "  </tbody>\n",
              "</table>\n",
              "</div>\n",
              "    <div class=\"colab-df-buttons\">\n",
              "\n",
              "  <div class=\"colab-df-container\">\n",
              "    <button class=\"colab-df-convert\" onclick=\"convertToInteractive('df-0aeade56-ec2f-47ca-996a-94ef60c4307d')\"\n",
              "            title=\"Convert this dataframe to an interactive table.\"\n",
              "            style=\"display:none;\">\n",
              "\n",
              "  <svg xmlns=\"http://www.w3.org/2000/svg\" height=\"24px\" viewBox=\"0 -960 960 960\">\n",
              "    <path d=\"M120-120v-720h720v720H120Zm60-500h600v-160H180v160Zm220 220h160v-160H400v160Zm0 220h160v-160H400v160ZM180-400h160v-160H180v160Zm440 0h160v-160H620v160ZM180-180h160v-160H180v160Zm440 0h160v-160H620v160Z\"/>\n",
              "  </svg>\n",
              "    </button>\n",
              "\n",
              "  <style>\n",
              "    .colab-df-container {\n",
              "      display:flex;\n",
              "      gap: 12px;\n",
              "    }\n",
              "\n",
              "    .colab-df-convert {\n",
              "      background-color: #E8F0FE;\n",
              "      border: none;\n",
              "      border-radius: 50%;\n",
              "      cursor: pointer;\n",
              "      display: none;\n",
              "      fill: #1967D2;\n",
              "      height: 32px;\n",
              "      padding: 0 0 0 0;\n",
              "      width: 32px;\n",
              "    }\n",
              "\n",
              "    .colab-df-convert:hover {\n",
              "      background-color: #E2EBFA;\n",
              "      box-shadow: 0px 1px 2px rgba(60, 64, 67, 0.3), 0px 1px 3px 1px rgba(60, 64, 67, 0.15);\n",
              "      fill: #174EA6;\n",
              "    }\n",
              "\n",
              "    .colab-df-buttons div {\n",
              "      margin-bottom: 4px;\n",
              "    }\n",
              "\n",
              "    [theme=dark] .colab-df-convert {\n",
              "      background-color: #3B4455;\n",
              "      fill: #D2E3FC;\n",
              "    }\n",
              "\n",
              "    [theme=dark] .colab-df-convert:hover {\n",
              "      background-color: #434B5C;\n",
              "      box-shadow: 0px 1px 3px 1px rgba(0, 0, 0, 0.15);\n",
              "      filter: drop-shadow(0px 1px 2px rgba(0, 0, 0, 0.3));\n",
              "      fill: #FFFFFF;\n",
              "    }\n",
              "  </style>\n",
              "\n",
              "    <script>\n",
              "      const buttonEl =\n",
              "        document.querySelector('#df-0aeade56-ec2f-47ca-996a-94ef60c4307d button.colab-df-convert');\n",
              "      buttonEl.style.display =\n",
              "        google.colab.kernel.accessAllowed ? 'block' : 'none';\n",
              "\n",
              "      async function convertToInteractive(key) {\n",
              "        const element = document.querySelector('#df-0aeade56-ec2f-47ca-996a-94ef60c4307d');\n",
              "        const dataTable =\n",
              "          await google.colab.kernel.invokeFunction('convertToInteractive',\n",
              "                                                    [key], {});\n",
              "        if (!dataTable) return;\n",
              "\n",
              "        const docLinkHtml = 'Like what you see? Visit the ' +\n",
              "          '<a target=\"_blank\" href=https://colab.research.google.com/notebooks/data_table.ipynb>data table notebook</a>'\n",
              "          + ' to learn more about interactive tables.';\n",
              "        element.innerHTML = '';\n",
              "        dataTable['output_type'] = 'display_data';\n",
              "        await google.colab.output.renderOutput(dataTable, element);\n",
              "        const docLink = document.createElement('div');\n",
              "        docLink.innerHTML = docLinkHtml;\n",
              "        element.appendChild(docLink);\n",
              "      }\n",
              "    </script>\n",
              "  </div>\n",
              "\n",
              "\n",
              "<div id=\"df-ac408a9d-25e1-4902-a990-e3bcb96655c2\">\n",
              "  <button class=\"colab-df-quickchart\" onclick=\"quickchart('df-ac408a9d-25e1-4902-a990-e3bcb96655c2')\"\n",
              "            title=\"Suggest charts\"\n",
              "            style=\"display:none;\">\n",
              "\n",
              "<svg xmlns=\"http://www.w3.org/2000/svg\" height=\"24px\"viewBox=\"0 0 24 24\"\n",
              "     width=\"24px\">\n",
              "    <g>\n",
              "        <path d=\"M19 3H5c-1.1 0-2 .9-2 2v14c0 1.1.9 2 2 2h14c1.1 0 2-.9 2-2V5c0-1.1-.9-2-2-2zM9 17H7v-7h2v7zm4 0h-2V7h2v10zm4 0h-2v-4h2v4z\"/>\n",
              "    </g>\n",
              "</svg>\n",
              "  </button>\n",
              "\n",
              "<style>\n",
              "  .colab-df-quickchart {\n",
              "      --bg-color: #E8F0FE;\n",
              "      --fill-color: #1967D2;\n",
              "      --hover-bg-color: #E2EBFA;\n",
              "      --hover-fill-color: #174EA6;\n",
              "      --disabled-fill-color: #AAA;\n",
              "      --disabled-bg-color: #DDD;\n",
              "  }\n",
              "\n",
              "  [theme=dark] .colab-df-quickchart {\n",
              "      --bg-color: #3B4455;\n",
              "      --fill-color: #D2E3FC;\n",
              "      --hover-bg-color: #434B5C;\n",
              "      --hover-fill-color: #FFFFFF;\n",
              "      --disabled-bg-color: #3B4455;\n",
              "      --disabled-fill-color: #666;\n",
              "  }\n",
              "\n",
              "  .colab-df-quickchart {\n",
              "    background-color: var(--bg-color);\n",
              "    border: none;\n",
              "    border-radius: 50%;\n",
              "    cursor: pointer;\n",
              "    display: none;\n",
              "    fill: var(--fill-color);\n",
              "    height: 32px;\n",
              "    padding: 0;\n",
              "    width: 32px;\n",
              "  }\n",
              "\n",
              "  .colab-df-quickchart:hover {\n",
              "    background-color: var(--hover-bg-color);\n",
              "    box-shadow: 0 1px 2px rgba(60, 64, 67, 0.3), 0 1px 3px 1px rgba(60, 64, 67, 0.15);\n",
              "    fill: var(--button-hover-fill-color);\n",
              "  }\n",
              "\n",
              "  .colab-df-quickchart-complete:disabled,\n",
              "  .colab-df-quickchart-complete:disabled:hover {\n",
              "    background-color: var(--disabled-bg-color);\n",
              "    fill: var(--disabled-fill-color);\n",
              "    box-shadow: none;\n",
              "  }\n",
              "\n",
              "  .colab-df-spinner {\n",
              "    border: 2px solid var(--fill-color);\n",
              "    border-color: transparent;\n",
              "    border-bottom-color: var(--fill-color);\n",
              "    animation:\n",
              "      spin 1s steps(1) infinite;\n",
              "  }\n",
              "\n",
              "  @keyframes spin {\n",
              "    0% {\n",
              "      border-color: transparent;\n",
              "      border-bottom-color: var(--fill-color);\n",
              "      border-left-color: var(--fill-color);\n",
              "    }\n",
              "    20% {\n",
              "      border-color: transparent;\n",
              "      border-left-color: var(--fill-color);\n",
              "      border-top-color: var(--fill-color);\n",
              "    }\n",
              "    30% {\n",
              "      border-color: transparent;\n",
              "      border-left-color: var(--fill-color);\n",
              "      border-top-color: var(--fill-color);\n",
              "      border-right-color: var(--fill-color);\n",
              "    }\n",
              "    40% {\n",
              "      border-color: transparent;\n",
              "      border-right-color: var(--fill-color);\n",
              "      border-top-color: var(--fill-color);\n",
              "    }\n",
              "    60% {\n",
              "      border-color: transparent;\n",
              "      border-right-color: var(--fill-color);\n",
              "    }\n",
              "    80% {\n",
              "      border-color: transparent;\n",
              "      border-right-color: var(--fill-color);\n",
              "      border-bottom-color: var(--fill-color);\n",
              "    }\n",
              "    90% {\n",
              "      border-color: transparent;\n",
              "      border-bottom-color: var(--fill-color);\n",
              "    }\n",
              "  }\n",
              "</style>\n",
              "\n",
              "  <script>\n",
              "    async function quickchart(key) {\n",
              "      const quickchartButtonEl =\n",
              "        document.querySelector('#' + key + ' button');\n",
              "      quickchartButtonEl.disabled = true;  // To prevent multiple clicks.\n",
              "      quickchartButtonEl.classList.add('colab-df-spinner');\n",
              "      try {\n",
              "        const charts = await google.colab.kernel.invokeFunction(\n",
              "            'suggestCharts', [key], {});\n",
              "      } catch (error) {\n",
              "        console.error('Error during call to suggestCharts:', error);\n",
              "      }\n",
              "      quickchartButtonEl.classList.remove('colab-df-spinner');\n",
              "      quickchartButtonEl.classList.add('colab-df-quickchart-complete');\n",
              "    }\n",
              "    (() => {\n",
              "      let quickchartButtonEl =\n",
              "        document.querySelector('#df-ac408a9d-25e1-4902-a990-e3bcb96655c2 button');\n",
              "      quickchartButtonEl.style.display =\n",
              "        google.colab.kernel.accessAllowed ? 'block' : 'none';\n",
              "    })();\n",
              "  </script>\n",
              "</div>\n",
              "\n",
              "    </div>\n",
              "  </div>\n"
            ],
            "application/vnd.google.colaboratory.intrinsic+json": {
              "type": "dataframe",
              "variable_name": "df",
              "summary": "{\n  \"name\": \"df\",\n  \"rows\": 100,\n  \"fields\": [\n    {\n      \"column\": \"Employee_Name\",\n      \"properties\": {\n        \"dtype\": \"string\",\n        \"num_unique_values\": 66,\n        \"samples\": [\n          \"Michael Johnson\",\n          \"Laura Williams\",\n          \"Jane Miller\"\n        ],\n        \"semantic_type\": \"\",\n        \"description\": \"\"\n      }\n    },\n    {\n      \"column\": \"Employee_ID\",\n      \"properties\": {\n        \"dtype\": \"number\",\n        \"std\": 2718,\n        \"min\": 1061,\n        \"max\": 9930,\n        \"num_unique_values\": 97,\n        \"samples\": [\n          1609,\n          9930,\n          5111\n        ],\n        \"semantic_type\": \"\",\n        \"description\": \"\"\n      }\n    },\n    {\n      \"column\": \"Job_Role\",\n      \"properties\": {\n        \"dtype\": \"category\",\n        \"num_unique_values\": 5,\n        \"samples\": [\n          \"Manager\",\n          \"Data Scientist\",\n          \"Engineer\"\n        ],\n        \"semantic_type\": \"\",\n        \"description\": \"\"\n      }\n    },\n    {\n      \"column\": \"Phone_Number\",\n      \"properties\": {\n        \"dtype\": \"number\",\n        \"std\": 2815252521.577166,\n        \"min\": 282272444.0,\n        \"max\": 9849897713.0,\n        \"num_unique_values\": 92,\n        \"samples\": [\n          4445761467.0,\n          1207962352.0,\n          4369373006.0\n        ],\n        \"semantic_type\": \"\",\n        \"description\": \"\"\n      }\n    },\n    {\n      \"column\": \"Email_ID\",\n      \"properties\": {\n        \"dtype\": \"string\",\n        \"num_unique_values\": 76,\n        \"samples\": [\n          \"sarah.taylor@test.net\",\n          \"john.miller@sample.org\",\n          \"david.smith@test.net\"\n        ],\n        \"semantic_type\": \"\",\n        \"description\": \"\"\n      }\n    },\n    {\n      \"column\": \"Total_Work_Hour_per_Month\",\n      \"properties\": {\n        \"dtype\": \"number\",\n        \"std\": 3935.482721756857,\n        \"min\": -10.0,\n        \"max\": 9999.0,\n        \"num_unique_values\": 5,\n        \"samples\": [\n          160.0,\n          -10.0,\n          200.0\n        ],\n        \"semantic_type\": \"\",\n        \"description\": \"\"\n      }\n    },\n    {\n      \"column\": \"Salary_per_Month\",\n      \"properties\": {\n        \"dtype\": \"number\",\n        \"std\": 37527.84755048112,\n        \"min\": -5000.0,\n        \"max\": 100000.0,\n        \"num_unique_values\": 11,\n        \"samples\": [\n          9600.0,\n          11200.0,\n          12600.0\n        ],\n        \"semantic_type\": \"\",\n        \"description\": \"\"\n      }\n    }\n  ]\n}"
            }
          },
          "metadata": {},
          "execution_count": 4
        }
      ]
    },
    {
      "cell_type": "code",
      "source": [
        "df['Hourly_Wage'] = df['Salary_per_Month'] /df['Total_Work_Hour_per_Month']\n",
        "print(df[['Salary_per_Month','Total_Work_Hour_per_Month','Hourly_Wage']])\n",
        ""
      ],
      "metadata": {
        "colab": {
          "base_uri": "https://localhost:8080/"
        },
        "id": "BskwQm4O0zxy",
        "outputId": "092d39af-570a-4512-87fb-0e918424868f"
      },
      "execution_count": 5,
      "outputs": [
        {
          "output_type": "stream",
          "name": "stdout",
          "text": [
            "    Salary_per_Month  Total_Work_Hour_per_Month  Hourly_Wage\n",
            "0                NaN                     9999.0          NaN\n",
            "1            11200.0                      160.0     70.00000\n",
            "2            -5000.0                     9999.0     -0.50005\n",
            "3             8000.0                      160.0     50.00000\n",
            "4                NaN                     9999.0          NaN\n",
            "..               ...                        ...          ...\n",
            "95          100000.0                      -10.0 -10000.00000\n",
            "96          100000.0                        NaN          NaN\n",
            "97          100000.0                        NaN          NaN\n",
            "98           -5000.0                      -10.0    500.00000\n",
            "99               NaN                        NaN          NaN\n",
            "\n",
            "[100 rows x 3 columns]\n"
          ]
        }
      ]
    },
    {
      "cell_type": "code",
      "source": [
        "df['Phone_Number'] = df['Phone_Number'].astype(str).str.replace(r'\\D', '', regex=True)\n",
        "df['Phone_Number'] = df['Phone_Number'].apply(lambda x: x[-10:])\n",
        "print(df)"
      ],
      "metadata": {
        "colab": {
          "base_uri": "https://localhost:8080/"
        },
        "id": "MiF9QIot0--M",
        "outputId": "fbb678c2-e933-45fa-d29d-aba20d58122e"
      },
      "execution_count": 6,
      "outputs": [
        {
          "output_type": "stream",
          "name": "stdout",
          "text": [
            "     Employee_Name  Employee_ID   Job_Role Phone_Number  \\\n",
            "0      Jane Miller         8797  Developer   8018808700   \n",
            "1    Michael Brown         6540    Manager   9047524280   \n",
            "2   Sarah Anderson         2353  Developer   4638223300   \n",
            "3    Chris Johnson         6392   Engineer   7276281480   \n",
            "4      Laura Smith         1653    Analyst   7750284090   \n",
            "..             ...          ...        ...          ...   \n",
            "95     Emily Smith         5111        NaN   4638835620   \n",
            "96    Sarah Wilson         7388   Engineer   4550090980   \n",
            "97             NaN         3773    Manager   4515525620   \n",
            "98     Sarah Smith         1442    Analyst   2949454000   \n",
            "99   Michael Jones         3490    Analyst   4256222840   \n",
            "\n",
            "                        Email_ID  Total_Work_Hour_per_Month  Salary_per_Month  \\\n",
            "0       emily.taylor@example.com                     9999.0               NaN   \n",
            "1            john.brown@test.net                      160.0           11200.0   \n",
            "2        sarah.wilson@sample.org                     9999.0           -5000.0   \n",
            "3          john.jones@sample.org                      160.0            8000.0   \n",
            "4          sarah.taylor@test.net                     9999.0               NaN   \n",
            "..                           ...                        ...               ...   \n",
            "95          james.davis@test.net                      -10.0          100000.0   \n",
            "96      john.johnson@example.com                        NaN          100000.0   \n",
            "97       david.miller@sample.org                        NaN          100000.0   \n",
            "98  jessica.anderson@example.com                      -10.0           -5000.0   \n",
            "99        john.miller@sample.org                        NaN               NaN   \n",
            "\n",
            "    Hourly_Wage  \n",
            "0           NaN  \n",
            "1      70.00000  \n",
            "2      -0.50005  \n",
            "3      50.00000  \n",
            "4           NaN  \n",
            "..          ...  \n",
            "95 -10000.00000  \n",
            "96          NaN  \n",
            "97          NaN  \n",
            "98    500.00000  \n",
            "99          NaN  \n",
            "\n",
            "[100 rows x 8 columns]\n"
          ]
        }
      ]
    },
    {
      "cell_type": "code",
      "source": [
        "unique_roles = df['Job_Role'].nunique()\n",
        "print(\"number of unique job roles : \" ,unique_roles)\n",
        ""
      ],
      "metadata": {
        "colab": {
          "base_uri": "https://localhost:8080/"
        },
        "id": "bWIIUoPD1F_T",
        "outputId": "82c2336e-ce51-4fae-d059-21751c0887c3"
      },
      "execution_count": 7,
      "outputs": [
        {
          "output_type": "stream",
          "name": "stdout",
          "text": [
            "number of unique job roles :  5\n"
          ]
        }
      ]
    },
    {
      "cell_type": "code",
      "source": [
        "df=df.drop_duplicates(subset=['Employee_ID'])"
      ],
      "metadata": {
        "id": "zsn4ZAwf1Jl0"
      },
      "execution_count": 8,
      "outputs": []
    },
    {
      "cell_type": "code",
      "source": [
        "negative_salaries = df[df['Salary_per_Month'] <0]\n",
        "print(\"negative salaries entries :\\n\",negative_salaries)"
      ],
      "metadata": {
        "colab": {
          "base_uri": "https://localhost:8080/"
        },
        "id": "-pui8Yji1PQm",
        "outputId": "1b8b0794-3f4e-4c9e-9936-45f59c163785"
      },
      "execution_count": 9,
      "outputs": [
        {
          "output_type": "stream",
          "name": "stdout",
          "text": [
            "negative salaries entries :\n",
            "       Employee_Name  Employee_ID        Job_Role Phone_Number  \\\n",
            "2    Sarah Anderson         2353       Developer   4638223300   \n",
            "8               NaN         5890       Developer   1553123020   \n",
            "12      Laura Davis         6915        Engineer   8498977130   \n",
            "14   Michael Miller         1634  Data Scientist   4163089320   \n",
            "17     John Johnson         8521         Analyst   9171964440   \n",
            "20      Laura Davis         8202             NaN   7900565110   \n",
            "32              NaN         1603        Engineer   7955319380   \n",
            "38     Emily Wilson         9713         Manager   1567040490   \n",
            "41    Jane Williams         7226             NaN   3511259920   \n",
            "48      Chris Jones         9320  Data Scientist   7671922250   \n",
            "60       Jane Jones         6742  Data Scientist   3556642850   \n",
            "62      David Brown         5344  Data Scientist   6060423100   \n",
            "64   Jessica Wilson         6131       Developer   8055311360   \n",
            "70  Michael Johnson         5045         Analyst   7030920160   \n",
            "71    Jane Anderson         8889         Manager   7368419600   \n",
            "81    Jessica Brown         8979        Engineer   9496475510   \n",
            "87    Sarah Johnson         3476             NaN                \n",
            "89       Jane Jones         7778  Data Scientist                \n",
            "93    Laura Johnson         2658        Engineer   8475481720   \n",
            "\n",
            "                      Email_ID  Total_Work_Hour_per_Month  Salary_per_Month  \\\n",
            "2      sarah.wilson@sample.org                     9999.0           -5000.0   \n",
            "8       jane.williams@test.net                     9999.0           -5000.0   \n",
            "12     sarah.brown@example.com                        NaN           -5000.0   \n",
            "14      emily.johnson@test.net                     9999.0           -5000.0   \n",
            "17  jessica.miller@example.com                        NaN           -5000.0   \n",
            "20                         NaN                     9999.0           -5000.0   \n",
            "32        emily.jones@test.net                     9999.0           -5000.0   \n",
            "38      jessica.smith@test.net                      -10.0           -5000.0   \n",
            "41      david.johnson@test.net                     9999.0           -5000.0   \n",
            "48     laura.taylor@sample.org                      -10.0           -5000.0   \n",
            "60     james.wilson@sample.org                      -10.0           -5000.0   \n",
            "62                         NaN                     9999.0           -5000.0   \n",
            "64         john.davis@test.net                        NaN           -5000.0   \n",
            "70  michael.miller@example.com                     9999.0           -5000.0   \n",
            "71   michael.smith@example.com                     9999.0           -5000.0   \n",
            "81   sarah.johnson@example.com                      -10.0           -5000.0   \n",
            "87   jessica.wilson@sample.org                     9999.0           -5000.0   \n",
            "89     sarah.brown@example.com                     9999.0           -5000.0   \n",
            "93    james.wilson@example.com                      -10.0           -5000.0   \n",
            "\n",
            "    Hourly_Wage  \n",
            "2      -0.50005  \n",
            "8      -0.50005  \n",
            "12          NaN  \n",
            "14     -0.50005  \n",
            "17          NaN  \n",
            "20     -0.50005  \n",
            "32     -0.50005  \n",
            "38    500.00000  \n",
            "41     -0.50005  \n",
            "48    500.00000  \n",
            "60    500.00000  \n",
            "62     -0.50005  \n",
            "64          NaN  \n",
            "70     -0.50005  \n",
            "71     -0.50005  \n",
            "81    500.00000  \n",
            "87     -0.50005  \n",
            "89     -0.50005  \n",
            "93    500.00000  \n"
          ]
        }
      ]
    },
    {
      "cell_type": "code",
      "source": [
        "duplicate_entries = df.duplicated(subset=['Employee_ID']).sum()\n",
        "print(\"number of duplicate entries : \" , duplicate_entries)\n",
        ""
      ],
      "metadata": {
        "colab": {
          "base_uri": "https://localhost:8080/"
        },
        "id": "4z8zxMEe1SXw",
        "outputId": "8fc5d979-7ceb-415a-de7f-757c2795b77d"
      },
      "execution_count": 11,
      "outputs": [
        {
          "output_type": "stream",
          "name": "stdout",
          "text": [
            "number of duplicate entries :  0\n"
          ]
        }
      ]
    }
  ]
}